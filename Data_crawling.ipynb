{
 "cells": [
  {
   "attachments": {},
   "cell_type": "markdown",
   "metadata": {},
   "source": [
    "# Data Crawling"
   ]
  },
  {
   "cell_type": "code",
   "execution_count": 1,
   "metadata": {},
   "outputs": [],
   "source": [
    "from bs4 import BeautifulSoup\n",
    "import urllib.request"
   ]
  },
  {
   "cell_type": "code",
   "execution_count": 2,
   "metadata": {},
   "outputs": [],
   "source": [
    "#- Data Crawling\n",
    "\n",
    "raw_file = open('./data/raw_review_data.txt', 'w', encoding='UTF-8') # Create file for writing\n",
    "\n",
    "for no in range(1, 501):\n",
    "    url = 'https://movie.naver.com/movie/point/af/list.naver?&page=%d' % no\n",
    "    html = urllib.request.urlopen(url)\n",
    "    soup = BeautifulSoup(html, 'html.parser')\n",
    "\n",
    "    reviews = soup.select('tbody > tr > td.title')\n",
    "    for rev in reviews: \n",
    "        rev_lst = []\n",
    "        title = rev.select_one('a.movie').text.strip()\n",
    "        score = rev.select_one('div.list_netizen_score > em').text.strip()\n",
    "        comment = rev.select_one('br').next_sibling.strip()\n",
    "        \n",
    "        #- labeling\n",
    "        if int(score) >= 8 :\n",
    "            label = 1   # 8 ~ 10 score -> Positive Reviews\n",
    "        elif int(score) <= 4 :\n",
    "            label = 0   # 0 ~ 4 score -> Negative Reviews\n",
    "        else :\n",
    "            label = 2   # 5 ~ 7 score -> Normal Reviews\n",
    "        \n",
    "        raw_file.write(f'{title}\\t{score}\\t{comment}\\t{label}\\n')\n",
    "raw_file.close()"
   ]
  },
  {
   "cell_type": "code",
   "execution_count": 3,
   "metadata": {},
   "outputs": [],
   "source": [
    "#- Data Structure\n",
    "import pandas as pd"
   ]
  },
  {
   "cell_type": "code",
   "execution_count": 4,
   "metadata": {},
   "outputs": [
    {
     "data": {
      "text/html": [
       "<div>\n",
       "<style scoped>\n",
       "    .dataframe tbody tr th:only-of-type {\n",
       "        vertical-align: middle;\n",
       "    }\n",
       "\n",
       "    .dataframe tbody tr th {\n",
       "        vertical-align: top;\n",
       "    }\n",
       "\n",
       "    .dataframe thead th {\n",
       "        text-align: right;\n",
       "    }\n",
       "</style>\n",
       "<table border=\"1\" class=\"dataframe\">\n",
       "  <thead>\n",
       "    <tr style=\"text-align: right;\">\n",
       "      <th></th>\n",
       "      <th>title</th>\n",
       "      <th>score</th>\n",
       "      <th>comment</th>\n",
       "      <th>label</th>\n",
       "    </tr>\n",
       "  </thead>\n",
       "  <tbody>\n",
       "    <tr>\n",
       "      <th>0</th>\n",
       "      <td>3000년의 기다림</td>\n",
       "      <td>10</td>\n",
       "      <td>엔딩크레딧과 함께 흐르는 음악까지 완벽</td>\n",
       "      <td>1</td>\n",
       "    </tr>\n",
       "    <tr>\n",
       "      <th>1</th>\n",
       "      <td>영웅</td>\n",
       "      <td>1</td>\n",
       "      <td>그냥 전개가 아예없고 그냥 뮤지컬을 화면으로 옮겼다 라는 느낌? 내용과 하등 관련없...</td>\n",
       "      <td>0</td>\n",
       "    </tr>\n",
       "    <tr>\n",
       "      <th>2</th>\n",
       "      <td>솔캠</td>\n",
       "      <td>10</td>\n",
       "      <td>NaN</td>\n",
       "      <td>1</td>\n",
       "    </tr>\n",
       "    <tr>\n",
       "      <th>3</th>\n",
       "      <td>세 자매</td>\n",
       "      <td>8</td>\n",
       "      <td>마지막 배우들의 미친 연기력에 소름 돋다 눈물이 또르르...안봐야지 하다 봤는데 나...</td>\n",
       "      <td>1</td>\n",
       "    </tr>\n",
       "    <tr>\n",
       "      <th>4</th>\n",
       "      <td>더 퍼스트 슬램덩크</td>\n",
       "      <td>10</td>\n",
       "      <td>팬들을 위한 존중과 배려가 돋보이는 영화이노우에 다케히코가 리얼이후 현실적인 묘사들...</td>\n",
       "      <td>1</td>\n",
       "    </tr>\n",
       "    <tr>\n",
       "      <th>5</th>\n",
       "      <td>아바타: 물의 길</td>\n",
       "      <td>10</td>\n",
       "      <td>3D 이녀석 아주 성장했구만~! 열분 IMAX3D로 감상하면 돈 값하는 영화의 맛을...</td>\n",
       "      <td>1</td>\n",
       "    </tr>\n",
       "    <tr>\n",
       "      <th>6</th>\n",
       "      <td>아바타: 물의 길</td>\n",
       "      <td>8</td>\n",
       "      <td>체험하는 영화 조금 졸았음</td>\n",
       "      <td>1</td>\n",
       "    </tr>\n",
       "    <tr>\n",
       "      <th>7</th>\n",
       "      <td>영웅</td>\n",
       "      <td>4</td>\n",
       "      <td>지루함... 너무나 훌륭한 주제지만 그렇다고 창작물 까지도 좋다고 할 수는 없..</td>\n",
       "      <td>0</td>\n",
       "    </tr>\n",
       "    <tr>\n",
       "      <th>8</th>\n",
       "      <td>내 머리 속의 지우개</td>\n",
       "      <td>10</td>\n",
       "      <td>여기가 천국인가요 ㅠㅠ</td>\n",
       "      <td>1</td>\n",
       "    </tr>\n",
       "    <tr>\n",
       "      <th>9</th>\n",
       "      <td>온리 더 브레이브</td>\n",
       "      <td>10</td>\n",
       "      <td>NaN</td>\n",
       "      <td>1</td>\n",
       "    </tr>\n",
       "  </tbody>\n",
       "</table>\n",
       "</div>"
      ],
      "text/plain": [
       "         title  score                                            comment  \\\n",
       "0   3000년의 기다림     10                              엔딩크레딧과 함께 흐르는 음악까지 완벽   \n",
       "1           영웅      1  그냥 전개가 아예없고 그냥 뮤지컬을 화면으로 옮겼다 라는 느낌? 내용과 하등 관련없...   \n",
       "2           솔캠     10                                                NaN   \n",
       "3         세 자매      8  마지막 배우들의 미친 연기력에 소름 돋다 눈물이 또르르...안봐야지 하다 봤는데 나...   \n",
       "4   더 퍼스트 슬램덩크     10  팬들을 위한 존중과 배려가 돋보이는 영화이노우에 다케히코가 리얼이후 현실적인 묘사들...   \n",
       "5    아바타: 물의 길     10  3D 이녀석 아주 성장했구만~! 열분 IMAX3D로 감상하면 돈 값하는 영화의 맛을...   \n",
       "6    아바타: 물의 길      8                                     체험하는 영화 조금 졸았음   \n",
       "7           영웅      4      지루함... 너무나 훌륭한 주제지만 그렇다고 창작물 까지도 좋다고 할 수는 없..   \n",
       "8  내 머리 속의 지우개     10                                       여기가 천국인가요 ㅠㅠ   \n",
       "9    온리 더 브레이브     10                                                NaN   \n",
       "\n",
       "   label  \n",
       "0      1  \n",
       "1      0  \n",
       "2      1  \n",
       "3      1  \n",
       "4      1  \n",
       "5      1  \n",
       "6      1  \n",
       "7      0  \n",
       "8      1  \n",
       "9      1  "
      ]
     },
     "execution_count": 4,
     "metadata": {},
     "output_type": "execute_result"
    }
   ],
   "source": [
    "raw_txt_data = pd.read_csv('./data/raw_review_data.txt', delimiter = '\\t', names=['title', 'score', 'comment', 'label'])\n",
    "raw_data = pd.DataFrame(raw_txt_data)\n",
    "raw_data.head(10)"
   ]
  },
  {
   "cell_type": "code",
   "execution_count": 6,
   "metadata": {},
   "outputs": [],
   "source": [
    "#- Data Purification\n",
    "raw_data = raw_data.dropna() # Removal NaN values\n",
    "raw_data = raw_data.drop_duplicates(['comment']) # Removal overlaping values"
   ]
  },
  {
   "cell_type": "code",
   "execution_count": 8,
   "metadata": {},
   "outputs": [
    {
     "data": {
      "text/plain": [
       "title      0\n",
       "score      0\n",
       "comment    0\n",
       "label      0\n",
       "dtype: int64"
      ]
     },
     "execution_count": 8,
     "metadata": {},
     "output_type": "execute_result"
    }
   ],
   "source": [
    "#- Check Null\n",
    "raw_data.isnull().sum()"
   ]
  },
  {
   "cell_type": "code",
   "execution_count": 12,
   "metadata": {},
   "outputs": [],
   "source": [
    "#- Removal unnecessary Column\n",
    "raw_data = raw_data.drop(['title', 'score'],axis=1)"
   ]
  },
  {
   "cell_type": "code",
   "execution_count": 13,
   "metadata": {},
   "outputs": [],
   "source": [
    "#- Save\n",
    "raw_data.to_csv(\"./data/review_sample_data.csv\", encoding=\"utf-8\")"
   ]
  },
  {
   "cell_type": "code",
   "execution_count": null,
   "metadata": {},
   "outputs": [],
   "source": []
  }
 ],
 "metadata": {
  "kernelspec": {
   "display_name": "craw",
   "language": "python",
   "name": "python3"
  },
  "language_info": {
   "codemirror_mode": {
    "name": "ipython",
    "version": 3
   },
   "file_extension": ".py",
   "mimetype": "text/x-python",
   "name": "python",
   "nbconvert_exporter": "python",
   "pygments_lexer": "ipython3",
   "version": "3.8.13 (default, Mar 28 2022, 06:59:08) [MSC v.1916 64 bit (AMD64)]"
  },
  "orig_nbformat": 4,
  "vscode": {
   "interpreter": {
    "hash": "f97663bcf13bda84a2fccf6bb3d6bacc9cc70491763236fb82b3145fddda44a1"
   }
  }
 },
 "nbformat": 4,
 "nbformat_minor": 2
}
