{
 "cells": [
  {
   "attachments": {},
   "cell_type": "markdown",
   "metadata": {},
   "source": [
    "# Korean Movie Review Emotion Predict"
   ]
  },
  {
   "cell_type": "code",
   "execution_count": 1,
   "metadata": {},
   "outputs": [],
   "source": [
    "import pandas as pd\n",
    "import numpy as np\n",
    "import matplotlib.pyplot as pl\n",
    "from sklearn.model_selection import train_test_split\n",
    "from tensorflow.keras.preprocessing.text import Tokenizer\n",
    "from tensorflow.keras.preprocessing.sequence import pad_sequences\n",
    "from eunjeon import Mecab\n",
    "import matplotlib.pyplot as plt"
   ]
  },
  {
   "cell_type": "code",
   "execution_count": 2,
   "metadata": {},
   "outputs": [
    {
     "data": {
      "text/html": [
       "<div>\n",
       "<style scoped>\n",
       "    .dataframe tbody tr th:only-of-type {\n",
       "        vertical-align: middle;\n",
       "    }\n",
       "\n",
       "    .dataframe tbody tr th {\n",
       "        vertical-align: top;\n",
       "    }\n",
       "\n",
       "    .dataframe thead th {\n",
       "        text-align: right;\n",
       "    }\n",
       "</style>\n",
       "<table border=\"1\" class=\"dataframe\">\n",
       "  <thead>\n",
       "    <tr style=\"text-align: right;\">\n",
       "      <th></th>\n",
       "      <th>comment</th>\n",
       "      <th>label</th>\n",
       "    </tr>\n",
       "  </thead>\n",
       "  <tbody>\n",
       "    <tr>\n",
       "      <th>0</th>\n",
       "      <td>엔딩크레딧과 함께 흐르는 음악까지 완벽</td>\n",
       "      <td>1</td>\n",
       "    </tr>\n",
       "    <tr>\n",
       "      <th>1</th>\n",
       "      <td>그냥 전개가 아예없고 그냥 뮤지컬을 화면으로 옮겼다 라는 느낌? 내용과 하등 관련없...</td>\n",
       "      <td>0</td>\n",
       "    </tr>\n",
       "    <tr>\n",
       "      <th>2</th>\n",
       "      <td>마지막 배우들의 미친 연기력에 소름 돋다 눈물이 또르르...안봐야지 하다 봤는데 나...</td>\n",
       "      <td>1</td>\n",
       "    </tr>\n",
       "    <tr>\n",
       "      <th>3</th>\n",
       "      <td>팬들을 위한 존중과 배려가 돋보이는 영화이노우에 다케히코가 리얼이후 현실적인 묘사들...</td>\n",
       "      <td>1</td>\n",
       "    </tr>\n",
       "    <tr>\n",
       "      <th>4</th>\n",
       "      <td>3D 이녀석 아주 성장했구만~! 열분 IMAX3D로 감상하면 돈 값하는 영화의 맛을...</td>\n",
       "      <td>1</td>\n",
       "    </tr>\n",
       "    <tr>\n",
       "      <th>5</th>\n",
       "      <td>체험하는 영화 조금 졸았음</td>\n",
       "      <td>1</td>\n",
       "    </tr>\n",
       "    <tr>\n",
       "      <th>6</th>\n",
       "      <td>지루함... 너무나 훌륭한 주제지만 그렇다고 창작물 까지도 좋다고 할 수는 없..</td>\n",
       "      <td>0</td>\n",
       "    </tr>\n",
       "    <tr>\n",
       "      <th>7</th>\n",
       "      <td>여기가 천국인가요 ㅠㅠ</td>\n",
       "      <td>1</td>\n",
       "    </tr>\n",
       "    <tr>\n",
       "      <th>8</th>\n",
       "      <td>정치가들-국회의원포함-꼭봐야!</td>\n",
       "      <td>1</td>\n",
       "    </tr>\n",
       "    <tr>\n",
       "      <th>9</th>\n",
       "      <td>남은 건 영상미 뿐 물이 아름답더라</td>\n",
       "      <td>2</td>\n",
       "    </tr>\n",
       "  </tbody>\n",
       "</table>\n",
       "</div>"
      ],
      "text/plain": [
       "                                             comment  label\n",
       "0                              엔딩크레딧과 함께 흐르는 음악까지 완벽      1\n",
       "1  그냥 전개가 아예없고 그냥 뮤지컬을 화면으로 옮겼다 라는 느낌? 내용과 하등 관련없...      0\n",
       "2  마지막 배우들의 미친 연기력에 소름 돋다 눈물이 또르르...안봐야지 하다 봤는데 나...      1\n",
       "3  팬들을 위한 존중과 배려가 돋보이는 영화이노우에 다케히코가 리얼이후 현실적인 묘사들...      1\n",
       "4  3D 이녀석 아주 성장했구만~! 열분 IMAX3D로 감상하면 돈 값하는 영화의 맛을...      1\n",
       "5                                     체험하는 영화 조금 졸았음      1\n",
       "6      지루함... 너무나 훌륭한 주제지만 그렇다고 창작물 까지도 좋다고 할 수는 없..      0\n",
       "7                                       여기가 천국인가요 ㅠㅠ      1\n",
       "8                                   정치가들-국회의원포함-꼭봐야!      1\n",
       "9                                남은 건 영상미 뿐 물이 아름답더라      2"
      ]
     },
     "execution_count": 2,
     "metadata": {},
     "output_type": "execute_result"
    }
   ],
   "source": [
    "#- Load review data\n",
    "data = pd.read_csv('./data/review_sample_data.csv', encoding='UTF-8')\n",
    "data = data.drop(['Unnamed: 0'],axis=1)\n",
    "data.head(10)"
   ]
  },
  {
   "cell_type": "code",
   "execution_count": 3,
   "metadata": {},
   "outputs": [
    {
     "name": "stdout",
     "output_type": "stream",
     "text": [
      "comment    6\n",
      "label      0\n",
      "dtype: int64\n"
     ]
    },
    {
     "name": "stderr",
     "output_type": "stream",
     "text": [
      "C:\\Users\\331\\AppData\\Local\\Temp\\ipykernel_1360\\2763222224.py:2: FutureWarning: The default value of regex will change from True to False in a future version.\n",
      "  data['comment'] = data['comment'].str.replace(\"[^ㄱ-ㅎㅏ-ㅣ가-힣 ]\",\"\")\n"
     ]
    }
   ],
   "source": [
    "#- Removing word excepting Korean and blank\n",
    "data['comment'] = data['comment'].str.replace(\"[^ㄱ-ㅎㅏ-ㅣ가-힣 ]\",\"\")\n",
    "data['comment'].replace('', np.nan, inplace=True) #- Blank -> Null\n",
    "print(data.isnull().sum())"
   ]
  },
  {
   "cell_type": "code",
   "execution_count": 4,
   "metadata": {},
   "outputs": [
    {
     "name": "stdout",
     "output_type": "stream",
     "text": [
      "comment    0\n",
      "label      0\n",
      "dtype: int64\n"
     ]
    }
   ],
   "source": [
    "#- Removal Null values\n",
    "data = data.dropna(how = 'any')\n",
    "print(data.isnull().sum())"
   ]
  },
  {
   "cell_type": "code",
   "execution_count": 5,
   "metadata": {},
   "outputs": [],
   "source": [
    "#- Define stopwords\n",
    "stopwords = ['의','가','이','은','들','는','좀','잘','걍','과','도','를','으로','자','에','와','한','하다']"
   ]
  },
  {
   "cell_type": "code",
   "execution_count": 6,
   "metadata": {},
   "outputs": [],
   "source": [
    "#- Segment sentence by morpheme & Removal stopwords\n",
    "mecab = Mecab() \n",
    "\n",
    "data['comment'] = data['comment'].apply(mecab.morphs)\n",
    "data['comment'] = data['comment'].apply(lambda x: [item for item in x if item not in stopwords])"
   ]
  },
  {
   "cell_type": "code",
   "execution_count": 7,
   "metadata": {},
   "outputs": [],
   "source": [
    "#- Split dataset\n",
    "train_data, test_data = train_test_split(data, test_size = 0.2, stratify=data['label'], random_state = 42)"
   ]
  },
  {
   "cell_type": "code",
   "execution_count": 8,
   "metadata": {},
   "outputs": [],
   "source": [
    "X_train = train_data['comment'].values\n",
    "y_train = train_data['label'].values\n",
    "X_test= test_data['comment'].values\n",
    "y_test = test_data['label'].values"
   ]
  },
  {
   "cell_type": "code",
   "execution_count": 9,
   "metadata": {},
   "outputs": [
    {
     "name": "stdout",
     "output_type": "stream",
     "text": [
      "Count of Data by category:\n",
      "[[   0    1    2]\n",
      " [ 462 2797  422]]\n"
     ]
    }
   ],
   "source": [
    "unique_elements, counts_elements = np.unique(y_train, return_counts=True)\n",
    "print(\"Count of Data by category:\")\n",
    "print(np.asarray((unique_elements, counts_elements)))"
   ]
  },
  {
   "cell_type": "code",
   "execution_count": 10,
   "metadata": {},
   "outputs": [],
   "source": [
    "#- Tokenization\n",
    "tokenizer = Tokenizer()\n",
    "tokenizer.fit_on_texts(X_train)"
   ]
  },
  {
   "cell_type": "code",
   "execution_count": 11,
   "metadata": {},
   "outputs": [
    {
     "name": "stdout",
     "output_type": "stream",
     "text": [
      "Count of words with frequency 2 or less : 3971\n",
      "Size of vocabulary list : 7604\n",
      "Count of rare words that appear less than 1 times : 3971\n",
      "Rate of rare words in Vocabulary list :  52.22251446607049\n",
      "Rate of rare words frequency in total words frequency :  5.531334011227034\n"
     ]
    }
   ],
   "source": [
    "#- Calculate Vocabulary size\n",
    "threshold = 2\n",
    "total_cnt = len(tokenizer.word_index) #- Count of words\n",
    "rare_cnt = 0 #- counting count of words that appear less than threshold\n",
    "total_freq = 0 #- Sum of total word frequency of train data\n",
    "rare_freq = 0 #- Sum of frequency of words that less than threshold\n",
    "\n",
    "#- key: words value: frequency\n",
    "for key, value in tokenizer.word_counts.items():\n",
    "    total_freq = total_freq + value\n",
    "\n",
    "    #- if frequency of words is less than threshold, counting rare word\n",
    "    if(value < threshold):\n",
    "        rare_cnt = rare_cnt + 1\n",
    "        rare_freq = rare_freq + value\n",
    "\n",
    "print('Count of words with frequency 2 or less :', rare_freq)\n",
    "print('Size of vocabulary list :',total_cnt)\n",
    "print('Count of rare words that appear less than %s times : %s'%(threshold - 1, rare_cnt))\n",
    "print(\"Rate of rare words in Vocabulary list : \", (rare_cnt / total_cnt)*100)\n",
    "print(\"Rate of rare words frequency in total words frequency : \", (rare_freq / total_freq)*100)"
   ]
  },
  {
   "cell_type": "code",
   "execution_count": 12,
   "metadata": {},
   "outputs": [
    {
     "name": "stdout",
     "output_type": "stream",
     "text": [
      "vocabulary size : 3635\n"
     ]
    }
   ],
   "source": [
    "#- Resizing vocabulary size\n",
    "vocab_size = total_cnt - rare_cnt + 2 # Removal words that less than 2 frequency among total words / +2 considering zero padding token and OOV token\n",
    "print('vocabulary size :',vocab_size)"
   ]
  },
  {
   "cell_type": "code",
   "execution_count": 13,
   "metadata": {},
   "outputs": [],
   "source": [
    "tokenizer = Tokenizer(vocab_size, oov_token = 'OOV') \n",
    "tokenizer.fit_on_texts(X_train)\n",
    "X_train = tokenizer.texts_to_sequences(X_train)\n",
    "X_test = tokenizer.texts_to_sequences(X_test)"
   ]
  },
  {
   "cell_type": "code",
   "execution_count": 14,
   "metadata": {},
   "outputs": [
    {
     "name": "stdout",
     "output_type": "stream",
     "text": [
      "Max length of Review : 384\n",
      "Average length of Review : 19.50312415104591\n"
     ]
    },
    {
     "data": {
      "image/png": "[encoded data removed]",
      "text/plain": [
       "<Figure size 432x288 with 1 Axes>"
      ]
     },
     "metadata": {
      "needs_background": "light"
     },
     "output_type": "display_data"
    }
   ],
   "source": [
    "#- Set seqence length\n",
    "print('Max length of Review :',max(len(content) for content in X_train))\n",
    "print('Average length of Review :',sum(map(len, X_train))/len(X_train))\n",
    "plt.hist([len(content) for content in X_train], bins=50)\n",
    "plt.xlabel('length of samples')\n",
    "plt.ylabel('number of samples')\n",
    "plt.show()"
   ]
  },
  {
   "cell_type": "code",
   "execution_count": 15,
   "metadata": {},
   "outputs": [],
   "source": [
    "#- Set max sequence length (Approximately 99% recommended)\n",
    "def below_threshold_len(max_len, nested_list):\n",
    "  count = 0\n",
    "  for sentence in nested_list:\n",
    "    if(len(sentence) <= max_len):\n",
    "        count = count + 1\n",
    "  print('Rate of data %s or less length size among total Review data : %s'%(max_len, (count / len(nested_list))*100))"
   ]
  },
  {
   "cell_type": "code",
   "execution_count": 17,
   "metadata": {},
   "outputs": [
    {
     "name": "stdout",
     "output_type": "stream",
     "text": [
      "Rate of data 350 or less length size among total Review data : 99.97283346916599\n"
     ]
    }
   ],
   "source": [
    "max_len = 350\n",
    "below_threshold_len(max_len, X_train)"
   ]
  },
  {
   "cell_type": "code",
   "execution_count": 18,
   "metadata": {},
   "outputs": [],
   "source": [
    "#- Padding\n",
    "X_train = pad_sequences(X_train, maxlen=max_len)\n",
    "X_test = pad_sequences(X_test, maxlen=max_len)"
   ]
  },
  {
   "cell_type": "code",
   "execution_count": 19,
   "metadata": {},
   "outputs": [],
   "source": [
    "#- Categorization\n",
    "from keras.utils.np_utils import to_categorical\n",
    "y_train_cat = to_categorical(y_train)\n",
    "y_test_cat = to_categorical(y_test)"
   ]
  },
  {
   "cell_type": "code",
   "execution_count": 20,
   "metadata": {},
   "outputs": [],
   "source": [
    "#- Model build\n",
    "from tensorflow.keras.layers import Embedding, Dense, LSTM, Bidirectional, Dropout\n",
    "from tensorflow.keras.models import Sequential\n",
    "from tensorflow.keras.models import load_model\n",
    "from tensorflow.keras.callbacks import EarlyStopping, ModelCheckpoint\n",
    "from tensorflow import keras"
   ]
  },
  {
   "cell_type": "code",
   "execution_count": 27,
   "metadata": {},
   "outputs": [
    {
     "name": "stdout",
     "output_type": "stream",
     "text": [
      "Epoch 1/20\n",
      "92/92 [==============================] - ETA: 0s - loss: 0.7013 - acc: 0.7544\n",
      "Epoch 1: val_acc improved from -inf to 0.76934, saving model to Review_model.h5\n",
      "92/92 [==============================] - 6s 43ms/step - loss: 0.7013 - acc: 0.7544 - val_loss: 0.5730 - val_acc: 0.7693\n",
      "Epoch 2/20\n",
      "91/92 [============================>.] - ETA: 0s - loss: 0.5749 - acc: 0.7977\n",
      "Epoch 2: val_acc improved from 0.76934 to 0.78426, saving model to Review_model.h5\n",
      "92/92 [==============================] - 3s 31ms/step - loss: 0.5741 - acc: 0.7979 - val_loss: 0.5391 - val_acc: 0.7843\n",
      "Epoch 3/20\n",
      "91/92 [============================>.] - ETA: 0s - loss: 0.3699 - acc: 0.8527\n",
      "Epoch 3: val_acc did not improve from 0.78426\n",
      "92/92 [==============================] - 3s 31ms/step - loss: 0.3701 - acc: 0.8526 - val_loss: 0.5770 - val_acc: 0.7693\n",
      "Epoch 4/20\n",
      "92/92 [==============================] - ETA: 0s - loss: 0.2635 - acc: 0.9062\n",
      "Epoch 4: val_acc did not improve from 0.78426\n",
      "92/92 [==============================] - 3s 33ms/step - loss: 0.2635 - acc: 0.9062 - val_loss: 0.6432 - val_acc: 0.7571\n",
      "Epoch 5/20\n",
      "91/92 [============================>.] - ETA: 0s - loss: 0.2029 - acc: 0.9337\n",
      "Epoch 5: val_acc did not improve from 0.78426\n",
      "92/92 [==============================] - 3s 32ms/step - loss: 0.2015 - acc: 0.9344 - val_loss: 0.7692 - val_acc: 0.7449\n",
      "Epoch 6/20\n",
      "91/92 [============================>.] - ETA: 0s - loss: 0.1457 - acc: 0.9519\n",
      "Epoch 6: val_acc did not improve from 0.78426\n",
      "92/92 [==============================] - 3s 31ms/step - loss: 0.1451 - acc: 0.9521 - val_loss: 0.8452 - val_acc: 0.7544\n",
      "Epoch 6: early stopping\n"
     ]
    }
   ],
   "source": [
    "embedding_dim = 100\n",
    "hidden_units = 128\n",
    "#num_filters = 64\n",
    "\n",
    "model = Sequential()\n",
    "model.add(Embedding(vocab_size, embedding_dim))\n",
    "model.add(Bidirectional(LSTM(hidden_units)))\n",
    "#model.add(Dropout(0.3))\n",
    "#model.add(Dense(num_filters, activation='relu'))\n",
    "model.add(Dense(3, activation='softmax'))\n",
    "\n",
    "es = EarlyStopping(monitor='val_loss', mode='min', verbose=1, patience=4)\n",
    "mc = ModelCheckpoint('Review_model.h5', monitor='val_acc', mode='max', verbose=1, save_best_only=True)\n",
    "opt = keras.optimizers.Adam(learning_rate=0.001)\n",
    "\n",
    "model.compile(optimizer=opt, loss='CategoricalCrossentropy', metrics=['acc'])\n",
    "history = model.fit(X_train, y_train_cat, epochs=20, callbacks=[es, mc], batch_size=32, validation_split=0.2)"
   ]
  },
  {
   "cell_type": "code",
   "execution_count": 28,
   "metadata": {},
   "outputs": [
    {
     "name": "stdout",
     "output_type": "stream",
     "text": [
      "29/29 [==============================] - 1s 20ms/step - loss: 0.5828 - acc: 0.7796\n",
      "\n",
      " Accuarcy: 0.7796\n"
     ]
    }
   ],
   "source": [
    "loaded_model = load_model('Review_model.h5')\n",
    "print(\"\\n Accuarcy: %.4f\" % (loaded_model.evaluate(X_test, y_test_cat)[1]))"
   ]
  },
  {
   "cell_type": "code",
   "execution_count": 29,
   "metadata": {},
   "outputs": [
    {
     "name": "stdout",
     "output_type": "stream",
     "text": [
      "29/29 [==============================] - 1s 18ms/step\n",
      "              precision    recall  f1-score   support\n",
      "\n",
      "           0       0.41      0.44      0.43       116\n",
      "           1       0.84      0.89      0.87       700\n",
      "           2       0.30      0.16      0.21       105\n",
      "\n",
      "    accuracy                           0.75       921\n",
      "   macro avg       0.52      0.50      0.50       921\n",
      "weighted avg       0.73      0.75      0.74       921\n",
      "\n"
     ]
    }
   ],
   "source": [
    "rounded_labels=np.argmax(y_test_cat, axis=1)\n",
    "from sklearn.metrics import classification_report\n",
    "print(classification_report(rounded_labels, np.argmax(model.predict(X_test), axis=-1)))"
   ]
  },
  {
   "cell_type": "code",
   "execution_count": 30,
   "metadata": {},
   "outputs": [
    {
     "data": {
      "image/png": "[encoded data removed]",
      "text/plain": [
       "<Figure size 432x288 with 1 Axes>"
      ]
     },
     "metadata": {
      "needs_background": "light"
     },
     "output_type": "display_data"
    }
   ],
   "source": [
    "epochs = range(1, len(history.history['acc']) + 1)\n",
    "plt.plot(epochs, history.history['loss'])\n",
    "plt.plot(epochs, history.history['val_loss'])\n",
    "plt.title('model loss')\n",
    "plt.ylabel('loss')\n",
    "plt.xlabel('epoch')\n",
    "plt.legend(['train', 'test'], loc='upper left')\n",
    "plt.show()"
   ]
  },
  {
   "cell_type": "code",
   "execution_count": 31,
   "metadata": {},
   "outputs": [],
   "source": [
    "import re\n",
    "\n",
    "def sentiment_predict(new_sentence):\n",
    "  new_sentence = re.sub(r'[^ㄱ-ㅎㅏ-ㅣ가-힣 ]','', new_sentence)\n",
    "  new_sentence = mecab.morphs(new_sentence)\n",
    "  new_sentence = [word for word in new_sentence if not word in stopwords]\n",
    "  encoded = tokenizer.texts_to_sequences([new_sentence])\n",
    "  pad_new = pad_sequences(encoded, maxlen = 350)\n",
    "  pre_cat = np.argmax(loaded_model.predict(pad_new), axis=-1)\n",
    "  socre = np.max(loaded_model.predict(pad_new)) # Using highest predict score \n",
    "  pre_value = pre_cat[0]\n",
    "\n",
    "  if pre_value == 0:\n",
    "    print(\"This review is predicted to be 'Negative' at %.5f%%\"%socre)\n",
    "  elif pre_value == 1:\n",
    "    print(\"This review is predicted to be 'Positive' at %.5f%%\"%socre)\n",
    "  elif pre_value == 2:\n",
    "    print(\"This review is predicted to be 'Normal' at %.5f%%\"%socre)"
   ]
  },
  {
   "cell_type": "code",
   "execution_count": 34,
   "metadata": {},
   "outputs": [],
   "source": [
    "sample_review_0 = '이 영화 너무 재밌다~~!!'\n",
    "sample_review_1 = '이거 보지 마세요 진짜 재미 없어요'\n",
    "sample_review_2 = '표값 아까움'\n",
    "sample_review_3 = '초반부 제외하고 적당히 볼만해요'\n",
    "sample_review_4 = '너무 몰입해서 봤네요 시간가는 줄 몰랐음'"
   ]
  },
  {
   "cell_type": "code",
   "execution_count": 35,
   "metadata": {},
   "outputs": [
    {
     "name": "stdout",
     "output_type": "stream",
     "text": [
      "1/1 [==============================] - 0s 27ms/step\n",
      "1/1 [==============================] - 0s 27ms/step\n",
      "This review is predicted to be 'Positive' at 0.92082%\n",
      "1/1 [==============================] - 0s 22ms/step\n",
      "1/1 [==============================] - 0s 24ms/step\n",
      "This review is predicted to be 'Negative' at 0.45294%\n",
      "1/1 [==============================] - 0s 22ms/step\n",
      "1/1 [==============================] - 0s 23ms/step\n",
      "This review is predicted to be 'Positive' at 0.41242%\n",
      "1/1 [==============================] - 0s 27ms/step\n",
      "1/1 [==============================] - 0s 23ms/step\n",
      "This review is predicted to be 'Positive' at 0.46914%\n",
      "1/1 [==============================] - 0s 24ms/step\n",
      "1/1 [==============================] - 0s 23ms/step\n",
      "This review is predicted to be 'Positive' at 0.82693%\n"
     ]
    }
   ],
   "source": [
    "sentiment_predict(sample_review_0)\n",
    "sentiment_predict(sample_review_1)\n",
    "sentiment_predict(sample_review_2)\n",
    "sentiment_predict(sample_review_3)\n",
    "sentiment_predict(sample_review_4)"
   ]
  },
  {
   "cell_type": "code",
   "execution_count": null,
   "metadata": {},
   "outputs": [],
   "source": []
  }
 ],
 "metadata": {
  "kernelspec": {
   "display_name": "craw",
   "language": "python",
   "name": "python3"
  },
  "language_info": {
   "codemirror_mode": {
    "name": "ipython",
    "version": 3
   },
   "file_extension": ".py",
   "mimetype": "text/x-python",
   "name": "python",
   "nbconvert_exporter": "python",
   "pygments_lexer": "ipython3",
   "version": "3.8.13"
  },
  "orig_nbformat": 4,
  "vscode": {
   "interpreter": {
    "hash": "f97663bcf13bda84a2fccf6bb3d6bacc9cc70491763236fb82b3145fddda44a1"
   }
  }
 },
 "nbformat": 4,
 "nbformat_minor": 2
}
